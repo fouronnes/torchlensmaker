{
 "cells": [
  {
   "cell_type": "markdown",
   "id": "4a41e039-f397-41f8-bb43-88d32da37c9f",
   "metadata": {},
   "source": [
    "# Landscape Singlet Lens"
   ]
  },
  {
   "cell_type": "markdown",
   "id": "b0472cf8-a8dc-4db2-8421-5addd0e983b6",
   "metadata": {},
   "source": [
    "Let's design a simple landscape singlet lens. This means two things:\n",
    "\n",
    "* A single lens (two refractive surfaces) made of one material: `tlm.AsymmetricLens`\n",
    "* A light source at infinity: `tlm.ObjectAtInfinity`\n",
    "\n",
    "We will also add an Aperture to model the lens entrance pupil."
   ]
  },
  {
   "cell_type": "code",
   "execution_count": null,
   "id": "4669ef96-7176-4871-bb60-ae7f2dcddad0",
   "metadata": {},
   "outputs": [],
   "source": [
    "# Landscape rear configuration\n",
    "\n",
    "import torch\n",
    "import torchlensmaker as tlm\n",
    "import torch.optim as optim\n",
    "\n",
    "#shape1 = tlm.CircularArc(height=30, r=tlm.Parameter(torch.tensor(-65.)))\n",
    "#shape2 = tlm.CircularArc(height=30, r=tlm.Parameter(torch.tensor(-35.)))\n",
    "\n",
    "shape1 = tlm.Parabola(height=30, a=tlm.Parameter(torch.tensor(-0.005)))\n",
    "shape2 = tlm.Parabola(height=30, a=tlm.Parameter(torch.tensor(-0.0115)))\n",
    "\n",
    "optics = tlm.OpticalSequence(\n",
    "    tlm.ObjectAtInfinity(beam_diameter=10, angular_size=40),\n",
    "    tlm.Gap(15),\n",
    "    tlm.AsymmetricLens(shape1, shape2, (1.0, 1.5), outer_thickness=3.),\n",
    "    tlm.Gap(150),\n",
    "    tlm.Image(110),\n",
    ")\n",
    "\n",
    "tlm.render_plt(optics, color_dim=\"object\", sampling={\"rays\": 10, \"object\": 5})\n",
    "\n",
    "tlm.plot_magnification(optics, sampling={\"rays\": 10, \"object\": 5})"
   ]
  },
  {
   "cell_type": "code",
   "execution_count": null,
   "id": "85ef7577-089a-4e43-a8b7-3a7632bd9c58",
   "metadata": {},
   "outputs": [],
   "source": [
    "tlm.optimize(\n",
    "    optics,\n",
    "    optimizer = optim.Adam(optics.parameters(), lr=1e-3),\n",
    "    sampling = {\"rays\": 10, \"object\": 10},\n",
    "    num_iter = 200,\n",
    ")\n",
    "\n",
    "tlm.render_plt(optics, sampling= {\"rays\": 10, \"object\": 10}, color_dim=\"object\")\n",
    "tlm.render_plt(optics, sampling= {\"rays\": 3, \"object\": 3}, color_dim=\"object\")"
   ]
  },
  {
   "cell_type": "code",
   "execution_count": null,
   "id": "4abf0c3d-40e6-4e94-96fd-ace79112da07",
   "metadata": {},
   "outputs": [],
   "source": []
  }
 ],
 "metadata": {
  "kernelspec": {
   "display_name": "Python 3 (ipykernel)",
   "language": "python",
   "name": "python3"
  },
  "language_info": {
   "codemirror_mode": {
    "name": "ipython",
    "version": 3
   },
   "file_extension": ".py",
   "mimetype": "text/x-python",
   "name": "python",
   "nbconvert_exporter": "python",
   "pygments_lexer": "ipython3",
   "version": "3.12.3"
  }
 },
 "nbformat": 4,
 "nbformat_minor": 5
}
