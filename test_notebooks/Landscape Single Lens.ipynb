{
 "cells": [
  {
   "cell_type": "markdown",
   "id": "4a41e039-f397-41f8-bb43-88d32da37c9f",
   "metadata": {},
   "source": [
    "# Landscape Singlet Lens"
   ]
  },
  {
   "cell_type": "markdown",
   "id": "b0472cf8-a8dc-4db2-8421-5addd0e983b6",
   "metadata": {},
   "source": [
    "Let's design a simple landscape singlet lens. This means two things:\n",
    "\n",
    "* A single lens (two refractive surfaces) made of one material: `tlm.AsymmetricLens`\n",
    "* A light source at infinity: `tlm.ObjectAtInfinity`\n",
    "\n",
    "We will also add an Aperture to model the lens entrance pupil."
   ]
  },
  {
   "cell_type": "code",
   "execution_count": null,
   "id": "4669ef96-7176-4871-bb60-ae7f2dcddad0",
   "metadata": {},
   "outputs": [],
   "source": [
    "# Landscape rear configuration\n",
    "\n",
    "import torch\n",
    "import torchlensmaker as tlm\n",
    "import torch.optim as optim\n",
    "\n",
    "shape1 = tlm.CircularArc2(height=30, r=tlm.Parameter(torch.tensor(-65.)))\n",
    "shape2 = tlm.CircularArc2(height=30, r=tlm.Parameter(torch.tensor(-35.)))\n",
    "\n",
    "optics = tlm.OpticalSequence(\n",
    "    tlm.ObjectAtInfinity(beam_diameter=10, angular_size=25),\n",
    "    tlm.Gap(15),\n",
    "    tlm.AsymmetricLens(shape1, shape2, (1.0, 1.5), outer_thickness=3.),\n",
    "    tlm.Gap(110),\n",
    "    tlm.Image(100),\n",
    ")\n",
    "\n",
    "tlm.render_plt(optics, color_dim=\"object\")"
   ]
  },
  {
   "cell_type": "code",
   "execution_count": null,
   "id": "85ef7577-089a-4e43-a8b7-3a7632bd9c58",
   "metadata": {},
   "outputs": [],
   "source": [
    "tlm.optimize(\n",
    "    optics,\n",
    "    optimizer = optim.Adam(optics.parameters(), lr=2e-3),\n",
    "    sampling = {\"rays\": 10, \"object\": 10},\n",
    "    num_iter = 100,\n",
    ")\n",
    "\n",
    "tlm.render_plt(optics, sampling= {\"rays\": 10, \"object\": 10}, color_dim=\"object\")"
   ]
  },
  {
   "cell_type": "code",
   "execution_count": null,
   "id": "1b3444f3-8694-45e4-9092-9708507bf6d6",
   "metadata": {},
   "outputs": [],
   "source": [
    "import torch\n",
    "import torch.optim as optim\n",
    "import torchlensmaker as tlm\n",
    "\n",
    "\n",
    "shape1 = tlm.CircularArc(height=60., r=tlm.Parameter(torch.tensor(120.)))\n",
    "shape2 = tlm.CircularArc(height=60., r=tlm.Parameter(torch.tensor(-120.)))\n",
    "\n",
    "optics = tlm.OpticalSequence(\n",
    "    tlm.ObjectAtInfinity(beam_diameter=40, angular_size=15),\n",
    "    tlm.Gap(10.),\n",
    "    tlm.AsymmetricLens(shape1, shape2, n=(1.0, 1.5), outer_thickness=5.),\n",
    "    tlm.Gap(110),\n",
    "    tlm.Image(40),\n",
    ")\n",
    "\n",
    "tlm.render_plt(optics, sampling={\"rays\": 25, \"object\": 5}, color_dim=\"object\")\n",
    "\n",
    "tlm.optimize(\n",
    "    optics,\n",
    "    optimizer = optim.Adam(optics.parameters(), lr=1e-4),\n",
    "    sampling = {\"rays\": 10, \"object\": 5},\n",
    "    num_iter = 200,\n",
    ")\n",
    "\n",
    "tlm.render_plt(optics, sampling={\"rays\": 5, \"object\": 5}, color_dim=\"object\")"
   ]
  },
  {
   "cell_type": "code",
   "execution_count": null,
   "id": "159b4f4c-830c-478d-86ba-e0601f6c9d39",
   "metadata": {},
   "outputs": [],
   "source": [
    "import torch\n",
    "import torch.optim as optim\n",
    "import torchlensmaker as tlm\n",
    "\n",
    "\n",
    "shape = tlm.CircularArc2(height=60., r=1e4)\n",
    "\n",
    "optics = tlm.OpticalSequence(\n",
    "    tlm.ObjectAtInfinity(beam_diameter=40, angular_size=15),\n",
    "    tlm.Gap(10.),\n",
    "    tlm.SymmetricLens(shape, n=(1.0, 1.5), outer_thickness=5.),\n",
    "    tlm.Gap(110),\n",
    "    tlm.Image(40),\n",
    ")\n",
    "\n",
    "tlm.render_plt(optics, sampling={\"rays\": 25, \"object\": 5}, color_dim=\"object\")"
   ]
  },
  {
   "cell_type": "code",
   "execution_count": null,
   "id": "af6a2c89-16fd-4df1-a60a-114a0449b7d5",
   "metadata": {},
   "outputs": [],
   "source": [
    "shape = tlm.CircularArc(height=60., r=1e4)\n",
    "\n",
    "shape.evaluate(torch.linspace(*shape.domain(), 10))"
   ]
  },
  {
   "cell_type": "code",
   "execution_count": null,
   "id": "4abf0c3d-40e6-4e94-96fd-ace79112da07",
   "metadata": {},
   "outputs": [],
   "source": []
  }
 ],
 "metadata": {
  "kernelspec": {
   "display_name": "Python 3 (ipykernel)",
   "language": "python",
   "name": "python3"
  },
  "language_info": {
   "codemirror_mode": {
    "name": "ipython",
    "version": 3
   },
   "file_extension": ".py",
   "mimetype": "text/x-python",
   "name": "python",
   "nbconvert_exporter": "python",
   "pygments_lexer": "ipython3",
   "version": "3.12.3"
  }
 },
 "nbformat": 4,
 "nbformat_minor": 5
}
