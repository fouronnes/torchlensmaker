{
 "cells": [
  {
   "cell_type": "code",
   "execution_count": null,
   "id": "f7d16346-a17c-4e99-9866-197767abcdb7",
   "metadata": {},
   "outputs": [],
   "source": [
    "import torchlensmaker as tlm\n",
    "import torch.nn as nn\n",
    "import torch\n",
    "\n",
    "shape = tlm.Parabola(width = 10., a = 0.04)\n",
    "lens = tlm.SymmetricLens(shape, (1.0, 1.5), outer_thickness=1.0)\n",
    "\n",
    "optics = nn.Sequential(\n",
    "    tlm.PointSource(height=0, beam_angle=25),\n",
    "    tlm.Gap(20),\n",
    "    lens,\n",
    "    tlm.Gap(25),\n",
    "    tlm.FocalPointLoss(),\n",
    ")\n",
    "\n",
    "tlm.render_plt(optics)"
   ]
  },
  {
   "cell_type": "code",
   "execution_count": null,
   "id": "612593df-34ec-469f-a6ad-3afe69e8839b",
   "metadata": {},
   "outputs": [],
   "source": [
    "import torchlensmaker as tlm\n",
    "import torch.nn as nn\n",
    "import torch\n",
    "\n",
    "shape = tlm.Parabola(width = 10., a = 0.03)\n",
    "lens = tlm.SymmetricLens(shape, (1.0, 1.5), outer_thickness=1.0)\n",
    "\n",
    "optics = nn.Sequential(\n",
    "    tlm.PointSourceAtInfinity(angle=5., beam_diameter=10),\n",
    "    tlm.Gap(5),\n",
    "    lens,\n",
    "    tlm.Gap(15),\n",
    "    tlm.FocalPointLoss(),\n",
    ")\n",
    "\n",
    "tlm.render_plt(optics)"
   ]
  },
  {
   "cell_type": "code",
   "execution_count": null,
   "id": "426bece9-3798-414d-ae6b-953a8399a1a7",
   "metadata": {},
   "outputs": [],
   "source": [
    "import torchlensmaker as tlm\n",
    "import torch.nn as nn\n",
    "import torch\n",
    "\n",
    "shape = tlm.Parabola(width = 10., a = 0.03)\n",
    "lens = tlm.SymmetricLens(shape, (1.0, 1.5), outer_thickness=1.0)\n",
    "\n",
    "optics = nn.Sequential(\n",
    "    tlm.PointSourceAtInfinity(angle=5, beam_diameter=10),\n",
    "    tlm.PointSourceAtInfinity(angle=0, beam_diameter=10),\n",
    "    tlm.PointSourceAtInfinity(angle=-5, beam_diameter=10),\n",
    "    tlm.Gap(5),\n",
    "    lens,\n",
    "    tlm.Gap(15),\n",
    "    tlm.FocalPointLoss(),\n",
    ")\n",
    "\n",
    "tlm.render_plt(optics)"
   ]
  },
  {
   "cell_type": "code",
   "execution_count": null,
   "id": "fca2219d-37e1-4ae6-be4d-a45a91b5fb67",
   "metadata": {},
   "outputs": [],
   "source": [
    "import torchlensmaker as tlm\n",
    "import torch.nn as nn\n",
    "import torch\n",
    "\n",
    "optics = nn.Sequential(\n",
    "    tlm.PointSource(height=0, beam_angle=25),\n",
    ")\n",
    "\n",
    "tlm.render_plt(optics)"
   ]
  },
  {
   "cell_type": "code",
   "execution_count": null,
   "id": "e9732cdf-d426-4484-90dd-5004a5bcd8b3",
   "metadata": {},
   "outputs": [],
   "source": []
  }
 ],
 "metadata": {
  "kernelspec": {
   "display_name": "Python 3 (ipykernel)",
   "language": "python",
   "name": "python3"
  },
  "language_info": {
   "codemirror_mode": {
    "name": "ipython",
    "version": 3
   },
   "file_extension": ".py",
   "mimetype": "text/x-python",
   "name": "python",
   "nbconvert_exporter": "python",
   "pygments_lexer": "ipython3",
   "version": "3.12.3"
  }
 },
 "nbformat": 4,
 "nbformat_minor": 5
}
