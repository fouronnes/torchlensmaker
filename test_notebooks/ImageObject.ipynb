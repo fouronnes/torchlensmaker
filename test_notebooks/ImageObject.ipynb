{
 "cells": [
  {
   "cell_type": "markdown",
   "id": "797f4984-01dc-4fcf-936f-41ea6560def9",
   "metadata": {},
   "source": [
    "# Object as source of rays and image loss\n",
    "\n",
    "SourceObject\n",
    "    an 'object' in the sense of optics that emits (really reflects) rays in all directions\n",
    "    act as a source for the optical system\n",
    "    properties: position, height\n",
    "\n",
    "Ray:\n",
    "    - object of origin?\n",
    "    - absolute origin (object space coordinate of source)\n",
    "    - during raytracing: origin / unit vector\n",
    "\n",
    "TargetImage:\n",
    "    - height\n",
    "    - position\n",
    "\n",
    "SourceDiffuse\n",
    "    A diffuse light source that's not an object\n",
    "    angular power function\n",
    "    emits rays that are not associated with an object source\n",
    "\n",
    "BeamLoss:\n",
    "    Loss function for a beam of light spread,\n",
    "    usefull to minimize beam spread\n",
    "\n",
    "Object at infinity / image at infinity. ex: moon\n",
    "    specific object\n",
    "    specific image\n",
    "\n",
    "\n",
    "OpticalObject\n",
    "OpticalImage\n",
    "\n",
    "OpticalObjectAtInfinity\n",
    "OpticalImageAtInfinity\n",
    "\n",
    "Moon / telescope example\n",
    "    two rays coming from the same point on the object at infinity are //\n",
    "    two rays coming from different points on the object are not //\n",
    "    object at infinity doesn't have a size, but has angular size"
   ]
  }
 ],
 "metadata": {
  "kernelspec": {
   "display_name": "Python 3 (ipykernel)",
   "language": "python",
   "name": "python3"
  },
  "language_info": {
   "codemirror_mode": {
    "name": "ipython",
    "version": 3
   },
   "file_extension": ".py",
   "mimetype": "text/x-python",
   "name": "python",
   "nbconvert_exporter": "python",
   "pygments_lexer": "ipython3",
   "version": "3.12.3"
  }
 },
 "nbformat": 4,
 "nbformat_minor": 5
}
