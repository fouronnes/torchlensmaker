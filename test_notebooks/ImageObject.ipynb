{
 "cells": [
  {
   "cell_type": "markdown",
   "id": "797f4984-01dc-4fcf-936f-41ea6560def9",
   "metadata": {},
   "source": [
    "# Object as source of rays and image loss\n",
    "\n",
    "SourceObject\n",
    "    an 'object' in the sense of optics that emits (really reflects) rays in all directions\n",
    "    act as a source for the optical system\n",
    "    properties: position, height\n",
    "\n",
    "Ray:\n",
    "    - object of origin?\n",
    "    - absolute origin (object space coordinate of source)\n",
    "    - during raytracing: origin / unit vector\n",
    "\n",
    "TargetImage:\n",
    "    - height\n",
    "    - position\n",
    "\n",
    "SourceDiffuse\n",
    "    A diffuse light source that's not an object\n",
    "    angular power function\n",
    "    emits rays that are not associated with an object source\n",
    "\n",
    "BeamLoss:\n",
    "    Loss function for a beam of light spread,\n",
    "    usefull to minimize beam spread\n",
    "\n",
    "Object at infinity / image at infinity. ex: moon\n",
    "    specific object\n",
    "    specific image\n",
    "\n",
    "\n",
    "OpticalObject\n",
    "OpticalImage\n",
    "\n",
    "OpticalObjectAtInfinity\n",
    "OpticalImageAtInfinity\n",
    "\n",
    "Moon / telescope example\n",
    "    two rays coming from the same point on the object at infinity are //\n",
    "    two rays coming from different points on the object are not //\n",
    "    object at infinity doesn't have a size, but has angular size"
   ]
  },
  {
   "cell_type": "code",
   "execution_count": null,
   "id": "9b6664db-14c7-42d5-b6cf-63a6576f0485",
   "metadata": {},
   "outputs": [],
   "source": [
    "import torch\n",
    "import torchlensmaker as tlm\n",
    "\n",
    "shape1 = tlm.CircularArc(height=60., r=120.)\n",
    "shape2 = tlm.CircularArc(height=50., r=80.)\n",
    "\n",
    "optics = tlm.OpticalSequence(\n",
    "    tlm.ObjectAtInfinity(beam_diameter=40, angular_size=15),\n",
    "    tlm.Gap(10.),\n",
    "    tlm.Aperture(height=60, diameter=35),\n",
    "    tlm.Gap(1.),\n",
    "    tlm.SymmetricLens(shape1, n=(1.0, 1.5), outer_thickness=5.),\n",
    "    tlm.Gap(1.),\n",
    "    tlm.PlanoLens(shape2, n=(1.0, 1.5), outer_thickness=5.),\n",
    "    tlm.Gap(60.0),\n",
    "    #tlm.Image(height=10),\n",
    "    tlm.FocalPoint(),\n",
    ")\n",
    "\n",
    "tlm.render_plt(optics, sampling={\"rays\": 25, \"object\": 5}, color_dim=\"object\")"
   ]
  },
  {
   "cell_type": "code",
   "execution_count": null,
   "id": "5ef07373-a319-47ca-8e87-484af32fc4ba",
   "metadata": {},
   "outputs": [],
   "source": [
    "## README example1\n",
    "# currently not ready\n",
    "\n",
    "import torchlensmaker as tlm\n",
    "\n",
    "shape = tlm.CircularArc(height=60., r=70.)\n",
    "\n",
    "optics = tlm.OpticalSequence(\n",
    "    tlm.ObjectAtInfinity(beam_diameter=40, angular_size=15),\n",
    "    tlm.Gap(10.),\n",
    "    tlm.SymmetricLens(shape, (1.0, 1.5), outer_thickness=5.),\n",
    "    tlm.Gap(60.0),\n",
    "    tlm.Image(height=10),\n",
    ")\n",
    "\n",
    "tlm.render_plt(optics, sampling={\"rays\": 30, \"object\": 5}, color_dim=\"object\")"
   ]
  },
  {
   "cell_type": "code",
   "execution_count": null,
   "id": "6f2083b0-b939-45c3-8480-f551ce44b8eb",
   "metadata": {},
   "outputs": [],
   "source": []
  }
 ],
 "metadata": {
  "kernelspec": {
   "display_name": "Python 3 (ipykernel)",
   "language": "python",
   "name": "python3"
  },
  "language_info": {
   "codemirror_mode": {
    "name": "ipython",
    "version": 3
   },
   "file_extension": ".py",
   "mimetype": "text/x-python",
   "name": "python",
   "nbconvert_exporter": "python",
   "pygments_lexer": "ipython3",
   "version": "3.12.3"
  }
 },
 "nbformat": 4,
 "nbformat_minor": 5
}
