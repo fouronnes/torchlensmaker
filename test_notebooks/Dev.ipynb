{
 "cells": [
  {
   "cell_type": "code",
   "execution_count": null,
   "id": "3d46bf6f-a462-4ca8-bcaf-b926f57364f1",
   "metadata": {},
   "outputs": [],
   "source": [
    "import torchlensmaker as tlm\n",
    "import torch\n",
    "import torch.optim as optim\n",
    "import torch.nn as nn\n",
    "\n",
    "\n",
    "class DevStack(tlm.Module):\n",
    "    def __init__(self):\n",
    "        super().__init__()\n",
    "\n",
    "        # optimizable\n",
    "        self.shape = tlm.Parabola(width = 40., a = nn.Parameter(torch.tensor(0.005)))\n",
    "    \n",
    "        self.lens = tlm.SymmetricLens(self.shape, (1.0, 1.5), inner_thickness=8.0)\n",
    "\n",
    "        self.optics = nn.Sequential(\n",
    "            tlm.ParallelBeamUniform(width=40.),\n",
    "            tlm.GapY(10),\n",
    "        \n",
    "            self.lens,\n",
    "\n",
    "            tlm.GapY(80),\n",
    "        \n",
    "            tlm.FocalPointLoss(),\n",
    "        )\n",
    "\n",
    "\n",
    "    def forward(self, inputs):\n",
    "        return self.optics(inputs)\n",
    "\n",
    "\n",
    "optics = DevStack()\n",
    "\n",
    "print(\"Parameters\")\n",
    "for n, p in optics.named_parameters():\n",
    "    print(n, p.detach().numpy())\n",
    "print()\n",
    "\n",
    "tlm.render_plt(optics, (10, torch.tensor([0., 0.])))\n",
    "print(optics.lens.inner_thickness(), optics.lens.outer_thickness())\n",
    "\n",
    "tlm.optimize(\n",
    "    optics,\n",
    "    optimizer = optim.Adam(optics.parameters(), lr=1e-3),\n",
    "    inputs = (10, torch.tensor([0., 0.])),\n",
    "    num_iter = 50,\n",
    ")\n",
    "\n",
    "tlm.render_plt(optics, (10, torch.tensor([0., 0.])))\n",
    "\n",
    "\n"
   ]
  },
  {
   "cell_type": "code",
   "execution_count": null,
   "id": "d8251a94-fe0e-4f3f-918f-1b3da3be42fa",
   "metadata": {},
   "outputs": [],
   "source": [
    "tlm.lens_to_part(optics.lens)\n"
   ]
  },
  {
   "cell_type": "code",
   "execution_count": null,
   "id": "3f0030a4-4cd0-4eff-a18a-e0f3c10ed2cc",
   "metadata": {},
   "outputs": [],
   "source": []
  }
 ],
 "metadata": {
  "kernelspec": {
   "display_name": "Python 3 (ipykernel)",
   "language": "python",
   "name": "python3"
  },
  "language_info": {
   "codemirror_mode": {
    "name": "ipython",
    "version": 3
   },
   "file_extension": ".py",
   "mimetype": "text/x-python",
   "name": "python",
   "nbconvert_exporter": "python",
   "pygments_lexer": "ipython3",
   "version": "3.12.3"
  }
 },
 "nbformat": 4,
 "nbformat_minor": 5
}
