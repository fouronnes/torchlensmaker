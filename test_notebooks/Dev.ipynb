{
 "cells": [
  {
   "cell_type": "code",
   "execution_count": null,
   "id": "3d46bf6f-a462-4ca8-bcaf-b926f57364f1",
   "metadata": {},
   "outputs": [],
   "source": [
    "import torchlensmaker as tlm\n",
    "import torch\n",
    "import torch.optim as optim\n",
    "\n",
    "# TODO\n",
    "# non translating optical stack elements and opticalstack\n",
    "# how to get double anchor back? i.e. gap needs to be anchored too\n",
    "# ->get method for surface position with an anchor parameter?\n",
    "\n",
    "shape1 = tlm.Parabola(20., init=[0.005])\n",
    "shape2 = tlm.Parabola.share(shape1, scale=-1.0)\n",
    "\n",
    "surface1 = tlm.Surface(shape1, pos=(0, 0), anchor=\"extent\")\n",
    "surface2 = tlm.Surface(shape2, pos=(0, 5), anchor=\"extent\")\n",
    "\n",
    "optics = tlm.OpticalStack([\n",
    "    tlm.ParallelBeamUniform(width=15., pos=(0, -10)),\n",
    "\n",
    "    tlm.RefractiveSurface(surface1, (1.0, 1.49)),\n",
    "    tlm.RefractiveSurface(surface2, (1.49, 1.0)),\n",
    "\n",
    "    tlm.FocalPointLoss(pos=(0, 80)),\n",
    "])\n",
    "\n",
    "tlm.render_plt(optics, 10)\n",
    "\n",
    "tlm.optimize(\n",
    "    optics,\n",
    "    optimizer = optim.Adam(optics.parameters(), lr=5e-4),\n",
    "    num_rays = 20,\n",
    "    num_iter = 80,\n",
    ")\n",
    "\n",
    "tlm.render_plt(optics, 10)\n",
    "\n",
    "# signal what I want to optimize or not by just wrapping into parameter:\n",
    "\n",
    "# ReflectiveSurface(Parabola(tlm.Parameter(5.0)))\n",
    "# vs\n",
    "# ReflectiveSurface(Parabola(5.0), pos=(a, b))\n",
    "\n",
    "# setup a linear stack with same syntax gap(), etc.\n",
    "# but preprocess the stack to remove gaps and setup surfaces origins/anchors\n",
    "p\n"
   ]
  },
  {
   "cell_type": "code",
   "execution_count": null,
   "id": "d8251a94-fe0e-4f3f-918f-1b3da3be42fa",
   "metadata": {},
   "outputs": [],
   "source": []
  }
 ],
 "metadata": {
  "kernelspec": {
   "display_name": "Python 3 (ipykernel)",
   "language": "python",
   "name": "python3"
  },
  "language_info": {
   "codemirror_mode": {
    "name": "ipython",
    "version": 3
   },
   "file_extension": ".py",
   "mimetype": "text/x-python",
   "name": "python",
   "nbconvert_exporter": "python",
   "pygments_lexer": "ipython3",
   "version": "3.12.3"
  }
 },
 "nbformat": 4,
 "nbformat_minor": 5
}
