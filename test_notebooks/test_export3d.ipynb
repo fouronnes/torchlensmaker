{
 "cells": [
  {
   "cell_type": "code",
   "execution_count": null,
   "id": "87f8ff97-587e-4efe-80fe-e0e8822c941c",
   "metadata": {},
   "outputs": [],
   "source": [
    "from torchlensmaker.shapes import Parabola, Line, CircularArc\n",
    "from torchlensmaker.export3d import shape_to_sketch\n",
    "\n",
    "from IPython.display import display\n",
    "\n",
    "test_shapes = [\n",
    "    Parabola(15.0, [0.02]),\n",
    "    Line(15.0, [1.0, 1.0, 1.0]),\n",
    "    CircularArc(15.0, 20.0),\n",
    "]\n",
    "\n",
    "for shape in test_shapes:\n",
    "    display(shape_to_sketch(shape, 0.0))\n"
   ]
  },
  {
   "cell_type": "code",
   "execution_count": null,
   "id": "bb2db63a-b8d7-4681-86ac-2d000e8311ca",
   "metadata": {},
   "outputs": [],
   "source": []
  }
 ],
 "metadata": {
  "kernelspec": {
   "display_name": "Python 3 (ipykernel)",
   "language": "python",
   "name": "python3"
  },
  "language_info": {
   "codemirror_mode": {
    "name": "ipython",
    "version": 3
   },
   "file_extension": ".py",
   "mimetype": "text/x-python",
   "name": "python",
   "nbconvert_exporter": "python",
   "pygments_lexer": "ipython3",
   "version": "3.12.3"
  }
 },
 "nbformat": 4,
 "nbformat_minor": 5
}
