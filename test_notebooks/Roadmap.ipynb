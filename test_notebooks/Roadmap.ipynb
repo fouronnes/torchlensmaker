{
 "cells": [
  {
   "cell_type": "code",
   "execution_count": null,
   "id": "63d50d19-149f-43e5-a60f-cfc29dfb5e5e",
   "metadata": {},
   "outputs": [],
   "source": [
    "\n",
    "\n"
   ]
  },
  {
   "cell_type": "markdown",
   "id": "07610b3c-43fe-4986-9e16-3b784f12c938",
   "metadata": {},
   "source": [
    "# Roadmap\n",
    "\n",
    "## Before 0.1\n",
    "\n",
    "* Fix pulaski notebook, make it into a complex example: n-lens sequence\n",
    "* clean up shapes code\n",
    "* port pulaski code to new lib\n",
    "\n",
    "## After\n",
    "\n",
    "* implement proper PiecewiseLine.intersect_batch\n",
    "* move everything to absolute space to simplify rendering code\n",
    "* handle rays not colliding better\n",
    "* cleanup regression term / prior support\n",
    "* resample between profile shapes\n",
    "* display 3D models with https://github.com/bernhard-42/three-cad-viewer\n",
    "* faster example notebooks, improve convergence"
   ]
  }
 ],
 "metadata": {
  "kernelspec": {
   "display_name": "Python 3 (ipykernel)",
   "language": "python",
   "name": "python3"
  },
  "language_info": {
   "codemirror_mode": {
    "name": "ipython",
    "version": 3
   },
   "file_extension": ".py",
   "mimetype": "text/x-python",
   "name": "python",
   "nbconvert_exporter": "python",
   "pygments_lexer": "ipython3",
   "version": "3.12.3"
  }
 },
 "nbformat": 4,
 "nbformat_minor": 5
}
