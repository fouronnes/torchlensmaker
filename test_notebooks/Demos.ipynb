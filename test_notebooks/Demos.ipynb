{
 "cells": [
  {
   "cell_type": "code",
   "execution_count": 1,
   "id": "63d50d19-149f-43e5-a60f-cfc29dfb5e5e",
   "metadata": {},
   "outputs": [],
   "source": [
    "\n",
    "## TODO LIST\n",
    "\n",
    "# move everything to absolute space\n",
    "# handle rays not colliding better\n",
    "# add back regression priors\n",
    "# resample between profile shapes\n",
    "# better batches normal / intersection code\n",
    "# export polygon data for freecad import\n",
    "# build 3D model\n",
    "# tests"
   ]
  },
  {
   "cell_type": "code",
   "execution_count": null,
   "id": "365a9483-d742-4e27-b2ef-e9df41f2164e",
   "metadata": {},
   "outputs": [],
   "source": []
  }
 ],
 "metadata": {
  "kernelspec": {
   "display_name": "Python 3 (ipykernel)",
   "language": "python",
   "name": "python3"
  },
  "language_info": {
   "codemirror_mode": {
    "name": "ipython",
    "version": 3
   },
   "file_extension": ".py",
   "mimetype": "text/x-python",
   "name": "python",
   "nbconvert_exporter": "python",
   "pygments_lexer": "ipython3",
   "version": "3.12.3"
  }
 },
 "nbformat": 4,
 "nbformat_minor": 5
}
