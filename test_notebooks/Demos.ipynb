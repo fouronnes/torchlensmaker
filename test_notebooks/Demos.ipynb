{
 "cells": [
  {
   "cell_type": "code",
   "execution_count": null,
   "id": "63d50d19-149f-43e5-a60f-cfc29dfb5e5e",
   "metadata": {},
   "outputs": [],
   "source": [
    "\n",
    "## TODO LIST\n",
    "\n",
    "# move everything to absolute space\n",
    "# handle rays not colliding better\n",
    "# add back regression priors\n",
    "# resample between profile shapes\n",
    "# better batches normal / intersection code\n",
    "# export polygon data for freecad import\n",
    "# build 3D model\n",
    "# tests"
   ]
  },
  {
   "cell_type": "code",
   "execution_count": null,
   "id": "76f0289b-b844-4861-a866-3660273d3bfc",
   "metadata": {},
   "outputs": [],
   "source": [
    "import math\n",
    "import torch\n",
    "import torch.nn as nn\n",
    "import torch.optim as optim\n",
    "import numpy as np\n",
    "\n",
    "import matplotlib.pyplot as plt\n",
    "from itertools import islice\n",
    "\n",
    "from torchlensmaker.raytracing import super_refraction, clamped_refraction, ray_point_squared_distance, refraction\n",
    "from torchlensmaker.optics import FocalPointLoss, ParallelBeamUniform, ParallelBeamRandom, FixedGap, RefractiveSurface, OpticalStack\n",
    "from torchlensmaker.shapes import Parabola, PiecewiseLine, Line, CircularArc, BezierSpline\n",
    "from torchlensmaker.training import render, optimize"
   ]
  },
  {
   "cell_type": "code",
   "execution_count": null,
   "id": "6bcd10a6-8225-4985-9e39-a3bb9ae1e83e",
   "metadata": {},
   "outputs": [],
   "source": [
    "class DemoPiecewise(OpticalStack):\n",
    "    def __init__(self, radius, focal_length, num_edges):\n",
    "        super().__init__()\n",
    "        self.radius = radius\n",
    "        self.focal_length = focal_length\n",
    "        self.num_edges = num_edges\n",
    "\n",
    "        delta = radius / num_edges # width of an edge\n",
    "        self.x = np.linspace(delta, radius, num_edges, dtype=np.float32)\n",
    "        y = np.linspace(0., -5.0, num_edges+1)[1:]\n",
    "    \n",
    "        self.coeffs = nn.Parameter(torch.as_tensor(y).clone(), requires_grad=True)\n",
    "\n",
    "    def make_stack(self):\n",
    "        profile = PiecewiseLine(self.x, self.coeffs)\n",
    "\n",
    "        return [\n",
    "            ParallelBeamRandom(radius=self.radius),\n",
    "            FixedGap(15.),\n",
    "            RefractiveSurface(profile, n1=1.49, n2=1.0),\n",
    "            FixedGap(self.focal_length),\n",
    "            FocalPointLoss(),\n",
    "        ]\n",
    "\n",
    "\n",
    "def demo_piecewise():\n",
    "    radius = math.sqrt(2)*25/2\n",
    "    focal_length = 25.0\n",
    "    num_edges = 8\n",
    "\n",
    "    optics = DemoPiecewise(radius, focal_length, num_edges)\n",
    "\n",
    "    render(optics, num_rays=10, render_width=radius)\n",
    "\n",
    "    optimize(\n",
    "        optics,\n",
    "        optimizer = optim.Adam(optics.parameters(), lr=5e-2),\n",
    "        num_rays = 8,\n",
    "        num_iter = 200,\n",
    "        render_width = radius\n",
    "    )\n",
    "\n",
    "    render(optics, num_rays=20, render_width=radius)\n",
    "\n",
    "demo_piecewise()"
   ]
  },
  {
   "cell_type": "code",
   "execution_count": null,
   "id": "c336808c-fa80-4114-8b5c-f27c6818f3fd",
   "metadata": {},
   "outputs": [],
   "source": []
  },
  {
   "cell_type": "code",
   "execution_count": null,
   "id": "6d1c0430-d25f-463f-b046-04bf38a2ff9b",
   "metadata": {},
   "outputs": [],
   "source": []
  },
  {
   "cell_type": "code",
   "execution_count": null,
   "id": "bd080e52-a690-484f-bf30-b465b415f168",
   "metadata": {},
   "outputs": [],
   "source": []
  },
  {
   "cell_type": "code",
   "execution_count": null,
   "id": "bfd18eaa-dc16-4ee7-8cec-b21d3ab90ea5",
   "metadata": {},
   "outputs": [],
   "source": []
  },
  {
   "cell_type": "code",
   "execution_count": null,
   "id": "9bdca3c2-8b46-416a-86a4-8e3042f7af03",
   "metadata": {},
   "outputs": [],
   "source": []
  },
  {
   "cell_type": "code",
   "execution_count": null,
   "id": "365a9483-d742-4e27-b2ef-e9df41f2164e",
   "metadata": {},
   "outputs": [],
   "source": []
  }
 ],
 "metadata": {
  "kernelspec": {
   "display_name": "Python 3 (ipykernel)",
   "language": "python",
   "name": "python3"
  },
  "language_info": {
   "codemirror_mode": {
    "name": "ipython",
    "version": 3
   },
   "file_extension": ".py",
   "mimetype": "text/x-python",
   "name": "python",
   "nbconvert_exporter": "python",
   "pygments_lexer": "ipython3",
   "version": "3.12.3"
  }
 },
 "nbformat": 4,
 "nbformat_minor": 5
}
