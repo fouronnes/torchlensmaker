{
 "cells": [
  {
   "cell_type": "markdown",
   "id": "89f37475-1f9a-43cf-8aa0-28ab602c6a4b",
   "metadata": {},
   "source": [
    "# Lens Maker Equation\n",
    "\n",
    "Here we create a lens with a fixed shape and compute what its focal length should come out to, using the formula known as the Lens Maker Equation. Then, we use torchlensmaker forward pass to compute the loss and check that it is close to zero.\n",
    "\n",
    "Note that it will not be exactly zero because the lens maker equation is an approximation."
   ]
  },
  {
   "cell_type": "code",
   "execution_count": null,
   "id": "831c4617-6d8f-425c-b1b3-b57ce0962aaf",
   "metadata": {},
   "outputs": [],
   "source": [
    "import math\n",
    "import torch\n",
    "import torch.nn as nn\n",
    "import torch.optim as optim\n",
    "import numpy as np\n",
    "\n",
    "import matplotlib.pyplot as plt\n",
    "from itertools import islice\n",
    "\n",
    "from torchlensmaker.raytracing import super_refraction, clamped_refraction, ray_point_squared_distance, refraction\n",
    "from torchlensmaker.optics import FocalPointLoss, ParallelBeamUniform, ParallelBeamRandom, FixedGap, RefractiveSurface, OpticalStack, Anchor\n",
    "from torchlensmaker.shapes import CircularArc\n",
    "from torchlensmaker.training import render, optimize"
   ]
  },
  {
   "cell_type": "code",
   "execution_count": null,
   "id": "cde5b90a-e189-46e0-9915-299204dfb5fd",
   "metadata": {},
   "outputs": [],
   "source": [
    "# Lens diameter: 40mm\n",
    "lens_diameter = 40.0\n",
    "\n",
    "# Circular surface radius\n",
    "R1, R2 = -200, 250\n",
    "\n",
    "# Indices of refraction\n",
    "N1, N2 = (1.0, 1.50)\n",
    "\n",
    "# Lens Maker Equation\n",
    "expected_focal_length = - 1 / (\n",
    "    ((N2 - N1) / N1) * (1/R1 - 1/R2)\n",
    ")\n",
    "\n",
    "print(\"Expected focal length (lens's maker equation):\", expected_focal_length)\n",
    "\n",
    "# Surface shapes of the lens\n",
    "surface1 = CircularArc(lens_diameter, R1)\n",
    "surface2 = CircularArc(lens_diameter, R2)\n",
    "\n",
    "# Setup the optical stack with incident parallel rays\n",
    "optics = OpticalStack([\n",
    "    ParallelBeamRandom(radius=lens_diameter),\n",
    "    FixedGap(10.),\n",
    "    \n",
    "    RefractiveSurface(surface1, (N1, N2), anchors=(Anchor.Center, Anchor.Edge)),\n",
    "    FixedGap(10.),\n",
    "    RefractiveSurface(surface2, (N2, N1), anchors=(Anchor.Edge, Anchor.Center)),\n",
    "    \n",
    "    FixedGap(expected_focal_length - 5.),  # is focal length wrt to the first surface?\n",
    "    FocalPointLoss(),\n",
    "])\n",
    "\n",
    "\n",
    "render(optics, num_rays=10)\n",
    "\n",
    "# Compute loss with 20 rays\n",
    "loss = optics.forward(20).item()\n",
    "print(\"Loss:\", loss)\n"
   ]
  },
  {
   "cell_type": "markdown",
   "id": "009dc52c-892d-44aa-a08a-8d3767344683",
   "metadata": {},
   "source": [
    "# Next\n",
    "\n",
    "* optimize the gap with VariableGap to improve the best fit focal distance estimation\n",
    "* resample the shape to a parabola to reduce spherical aberation"
   ]
  },
  {
   "cell_type": "code",
   "execution_count": null,
   "id": "7d60fbd1-f2b1-46cb-a8d7-f8c3c66cde31",
   "metadata": {},
   "outputs": [],
   "source": []
  }
 ],
 "metadata": {
  "kernelspec": {
   "display_name": "Python 3 (ipykernel)",
   "language": "python",
   "name": "python3"
  },
  "language_info": {
   "codemirror_mode": {
    "name": "ipython",
    "version": 3
   },
   "file_extension": ".py",
   "mimetype": "text/x-python",
   "name": "python",
   "nbconvert_exporter": "python",
   "pygments_lexer": "ipython3",
   "version": "3.12.3"
  }
 },
 "nbformat": 4,
 "nbformat_minor": 5
}
