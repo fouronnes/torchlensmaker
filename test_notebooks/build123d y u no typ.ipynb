{
 "cells": [
  {
   "cell_type": "code",
   "execution_count": null,
   "id": "c60a7ef1-b7d5-4381-8613-576ef2eed985",
   "metadata": {},
   "outputs": [],
   "source": [
    "import numpy as np\n",
    "from build123d import *\n",
    "\n",
    "sketch = Pos(0, np.array([10.0])) * Circle(5)\n",
    "sketch"
   ]
  },
  {
   "cell_type": "code",
   "execution_count": null,
   "id": "395b202d-b24d-4944-8a79-c15cee2e0cf5",
   "metadata": {},
   "outputs": [],
   "source": [
    "import build123d as bd\n",
    "bd.__version__"
   ]
  },
  {
   "cell_type": "code",
   "execution_count": null,
   "id": "2cac4d2a-879a-4916-bd45-789fe4d5e507",
   "metadata": {},
   "outputs": [],
   "source": []
  }
 ],
 "metadata": {
  "kernelspec": {
   "display_name": "Python 3 (ipykernel)",
   "language": "python",
   "name": "python3"
  },
  "language_info": {
   "codemirror_mode": {
    "name": "ipython",
    "version": 3
   },
   "file_extension": ".py",
   "mimetype": "text/x-python",
   "name": "python",
   "nbconvert_exporter": "python",
   "pygments_lexer": "ipython3",
   "version": "3.12.3"
  }
 },
 "nbformat": 4,
 "nbformat_minor": 5
}
