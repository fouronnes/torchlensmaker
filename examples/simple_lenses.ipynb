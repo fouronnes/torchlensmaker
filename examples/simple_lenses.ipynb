{
 "cells": [
  {
   "cell_type": "markdown",
   "id": "145b82e6-636d-4a46-abe1-5a1dd84bf38a",
   "metadata": {},
   "source": [
    "# Simple lenses"
   ]
  },
  {
   "cell_type": "markdown",
   "id": "1f7ab143-b758-4729-b7de-e322fa315f5c",
   "metadata": {},
   "source": [
    "An overview of simple lenses - also called \"singlet\" lenses. A simple lens is made of two refractive surfaces."
   ]
  },
  {
   "cell_type": "markdown",
   "id": "de540f6a-bfa5-4a54-88d7-b3d8aa5f7bf0",
   "metadata": {},
   "source": [
    "## Biconvex Spherical"
   ]
  },
  {
   "cell_type": "code",
   "execution_count": null,
   "id": "c812ead2-1317-41ff-b599-f075f183cd79",
   "metadata": {},
   "outputs": [],
   "source": [
    "import torchlensmaker as tlm\n",
    "\n",
    "lens = tlm.SymmetricLens(\n",
    "    tlm.CircularArc(height=10, r=20), (1.0, 1.5), outer_thickness=0.5\n",
    ")\n",
    "\n",
    "optics = tlm.OpticalSequence(\n",
    "    tlm.PointSourceAtInfinity(beam_diameter=8),\n",
    "    tlm.Gap(5),\n",
    "    lens,\n",
    ")\n",
    "\n",
    "tlm.render_plt(optics, end=30)"
   ]
  },
  {
   "cell_type": "code",
   "execution_count": null,
   "id": "b947b063-2439-4fac-a3c7-7afe60f70c2a",
   "metadata": {},
   "outputs": [],
   "source": [
    "from IPython.display import display\n",
    "\n",
    "display(tlm.lens_to_part(lens))"
   ]
  },
  {
   "cell_type": "markdown",
   "id": "11d80812-316c-4604-b7b4-b0cfc7cb6b42",
   "metadata": {},
   "source": [
    "## Biconvex Parabolic"
   ]
  },
  {
   "cell_type": "code",
   "execution_count": null,
   "id": "95466984-5cb8-4aad-981e-8286444edcb6",
   "metadata": {},
   "outputs": [],
   "source": [
    "import torchlensmaker as tlm\n",
    "\n",
    "lens = tlm.SymmetricLens(\n",
    "    tlm.Parabola(height=10, a=0.03), (1.0, 1.5), outer_thickness=0.5\n",
    ")\n",
    "\n",
    "optics = tlm.OpticalSequence(\n",
    "    tlm.PointSourceAtInfinity(beam_diameter=8),\n",
    "    tlm.Gap(5),\n",
    "    lens,\n",
    ")\n",
    "\n",
    "tlm.render_plt(optics, end=30)"
   ]
  },
  {
   "cell_type": "code",
   "execution_count": null,
   "id": "66d2fbcc-c04c-42b6-ac05-d6681ea90462",
   "metadata": {},
   "outputs": [],
   "source": [
    "from IPython.display import display\n",
    "\n",
    "display(tlm.lens_to_part(lens))"
   ]
  },
  {
   "cell_type": "markdown",
   "id": "76707c1b-e16d-451a-b28d-c88c57c0e131",
   "metadata": {},
   "source": [
    "## Biconvex Bezier Spline"
   ]
  },
  {
   "cell_type": "code",
   "execution_count": null,
   "id": "14d8c2d6-a829-4cc9-ae61-7374c8240749",
   "metadata": {},
   "outputs": [],
   "source": [
    "import torchlensmaker as tlm\n",
    "\n",
    "shape = tlm.BezierSpline(height=30, X=[2.11], CX=[3.35], CY=[4.91, 19.54])\n",
    "\n",
    "lens = tlm.SymmetricLens(shape, (1.0, 1.5), outer_thickness=0.5)\n",
    "\n",
    "optics = tlm.OpticalSequence(\n",
    "    tlm.PointSourceAtInfinity(beam_diameter=20),\n",
    "    tlm.Gap(5),\n",
    "    lens,\n",
    ")\n",
    "\n",
    "tlm.render_plt(optics, end=65)"
   ]
  },
  {
   "cell_type": "markdown",
   "id": "9f943a52-9149-4c51-bfc4-2e3bba436c0a",
   "metadata": {},
   "source": [
    "## Biconcave spherical (diverging lens)"
   ]
  },
  {
   "cell_type": "code",
   "execution_count": null,
   "id": "1044be12-e7b2-440d-8fe1-a58a3e423857",
   "metadata": {},
   "outputs": [],
   "source": [
    "import torchlensmaker as tlm\n",
    "\n",
    "# The shape given to SymmetricLens is the first surface.\n",
    "# The second surface is mirrored by its Y axis.\n",
    "# Hence to make a diverging lens, r is negative here\n",
    "# Note we also use inner_thickness to specify the lens thickness\n",
    "# because the inner thickness is smallest in a diverging lens.\n",
    "lens = tlm.SymmetricLens(\n",
    "    tlm.CircularArc(height=10, r=-18), (1.0, 1.5), inner_thickness=0.5\n",
    ")\n",
    "\n",
    "optics = tlm.OpticalSequence(\n",
    "    tlm.PointSourceAtInfinity(beam_diameter=8),\n",
    "    tlm.Gap(5),\n",
    "    lens,\n",
    ")\n",
    "\n",
    "tlm.render_plt(optics, end=20)"
   ]
  },
  {
   "cell_type": "code",
   "execution_count": null,
   "id": "35529cd5-353b-411f-af3c-a04675c7b987",
   "metadata": {},
   "outputs": [],
   "source": [
    "from IPython.display import display\n",
    "\n",
    "display(tlm.lens_to_part(lens))"
   ]
  }
 ],
 "metadata": {
  "kernelspec": {
   "display_name": "Python 3 (ipykernel)",
   "language": "python",
   "name": "python3"
  },
  "language_info": {
   "codemirror_mode": {
    "name": "ipython",
    "version": 3
   },
   "file_extension": ".py",
   "mimetype": "text/x-python",
   "name": "python",
   "nbconvert_exporter": "python",
   "pygments_lexer": "ipython3",
   "version": "3.12.3"
  }
 },
 "nbformat": 4,
 "nbformat_minor": 5
}
