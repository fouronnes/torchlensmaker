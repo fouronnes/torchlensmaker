{
 "cells": [
  {
   "cell_type": "markdown",
   "id": "145b82e6-636d-4a46-abe1-5a1dd84bf38a",
   "metadata": {},
   "source": [
    "# Simple lenses"
   ]
  },
  {
   "cell_type": "markdown",
   "id": "1f7ab143-b758-4729-b7de-e322fa315f5c",
   "metadata": {},
   "source": [
    "An overview of simple lenses - also called \"singlet\" lenses. A simple lens is made of two refractive surfaces."
   ]
  },
  {
   "cell_type": "markdown",
   "id": "de540f6a-bfa5-4a54-88d7-b3d8aa5f7bf0",
   "metadata": {},
   "source": [
    "## Biconvex Spherical"
   ]
  },
  {
   "cell_type": "code",
   "execution_count": null,
   "id": "3e0814bb-79a9-4666-ae86-a01b2b1d1e12",
   "metadata": {},
   "outputs": [],
   "source": [
    "import torchlensmaker as tlm\n",
    "\n",
    "lens = tlm.SymmetricLens(tlm.CircularArc(height=10, r=20), (1.0, 1.5), outer_thickness=0.5)\n",
    "\n",
    "optics = tlm.OpticalSequence(\n",
    "    tlm.PointSourceAtInfinity(beam_diameter=8),\n",
    "    tlm.Gap(5),\n",
    "    lens,\n",
    ")\n",
    "\n",
    "tlm.render_plt(optics, end=30)"
   ]
  },
  {
   "cell_type": "markdown",
   "id": "11d80812-316c-4604-b7b4-b0cfc7cb6b42",
   "metadata": {},
   "source": [
    "## Biconvex Parabolic"
   ]
  },
  {
   "cell_type": "code",
   "execution_count": null,
   "id": "95466984-5cb8-4aad-981e-8286444edcb6",
   "metadata": {},
   "outputs": [],
   "source": [
    "import torchlensmaker as tlm\n",
    "\n",
    "lens = tlm.SymmetricLens(tlm.Parabola(height=10, a=0.03), (1.0, 1.5), outer_thickness=0.5)\n",
    "\n",
    "optics = tlm.OpticalSequence(\n",
    "    tlm.PointSourceAtInfinity(beam_diameter=8),\n",
    "    tlm.Gap(5),\n",
    "    lens,\n",
    ")\n",
    "\n",
    "tlm.render_plt(optics, end=30)"
   ]
  },
  {
   "cell_type": "markdown",
   "id": "76707c1b-e16d-451a-b28d-c88c57c0e131",
   "metadata": {},
   "source": [
    "## Biconvex Bezier Spline"
   ]
  },
  {
   "cell_type": "code",
   "execution_count": null,
   "id": "14d8c2d6-a829-4cc9-ae61-7374c8240749",
   "metadata": {},
   "outputs": [],
   "source": [
    "import torchlensmaker as tlm\n",
    "\n",
    "shape = tlm.BezierSpline(height=30, X=[2.11], CX=[3.35], CY=[4.91, 19.54])\n",
    "\n",
    "lens = tlm.SymmetricLens(shape, (1.0, 1.5), outer_thickness=0.5)\n",
    "\n",
    "optics = tlm.OpticalSequence(\n",
    "    tlm.PointSourceAtInfinity(beam_diameter=20),\n",
    "    tlm.Gap(5),\n",
    "    lens,\n",
    ")\n",
    "\n",
    "tlm.render_plt(optics, end=65)"
   ]
  }
 ],
 "metadata": {
  "kernelspec": {
   "display_name": "Python 3 (ipykernel)",
   "language": "python",
   "name": "python3"
  },
  "language_info": {
   "codemirror_mode": {
    "name": "ipython",
    "version": 3
   },
   "file_extension": ".py",
   "mimetype": "text/x-python",
   "name": "python",
   "nbconvert_exporter": "python",
   "pygments_lexer": "ipython3",
   "version": "3.12.3"
  }
 },
 "nbformat": 4,
 "nbformat_minor": 5
}
