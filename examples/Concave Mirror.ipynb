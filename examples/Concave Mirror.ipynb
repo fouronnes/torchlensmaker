{
 "cells": [
  {
   "cell_type": "code",
   "execution_count": null,
   "id": "87a4bae4-b240-4d0b-a025-0def3175100c",
   "metadata": {},
   "outputs": [],
   "source": [
    "import torch\n",
    "import torch.nn as nn\n",
    "import torch.optim as optim\n",
    "\n",
    "import torchlensmaker as tlm\n",
    "\n",
    "\n",
    "class Optics(tlm.Module):\n",
    "    def __init__(self):\n",
    "        super().__init__()\n",
    "\n",
    "        self.shape = tlm.Parabola(width=35., a=nn.Parameter(torch.tensor(-0.005)))\n",
    "\n",
    "        self.optics = nn.Sequential(\n",
    "            tlm.PointSourceAtInfinity(beam_diameter=25),\n",
    "            tlm.Gap(100.),\n",
    "            \n",
    "            tlm.ReflectiveSurface(self.shape),\n",
    "            \n",
    "            tlm.Gap(-45.0),\n",
    "            tlm.FocalPointLoss(),\n",
    "        )\n",
    "\n",
    "    def forward(self, inputs):\n",
    "        return self.optics(inputs)\n",
    "\n",
    "optics = Optics()\n",
    "\n",
    "tlm.render_plt(optics)\n",
    "\n",
    "tlm.optimize(\n",
    "    optics,\n",
    "    optimizer = optim.Adam(optics.parameters(), lr=1e-4),\n",
    "    num_iter = 60\n",
    ")\n",
    "\n",
    "tlm.render_plt(optics)"
   ]
  },
  {
   "cell_type": "code",
   "execution_count": null,
   "id": "620e6e42-e4d3-431d-bb48-3a7524bdabd4",
   "metadata": {},
   "outputs": [],
   "source": []
  }
 ],
 "metadata": {
  "kernelspec": {
   "display_name": "Python 3 (ipykernel)",
   "language": "python",
   "name": "python3"
  },
  "language_info": {
   "codemirror_mode": {
    "name": "ipython",
    "version": 3
   },
   "file_extension": ".py",
   "mimetype": "text/x-python",
   "name": "python",
   "nbconvert_exporter": "python",
   "pygments_lexer": "ipython3",
   "version": "3.12.3"
  }
 },
 "nbformat": 4,
 "nbformat_minor": 5
}
