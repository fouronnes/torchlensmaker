{
 "cells": [
  {
   "cell_type": "code",
   "execution_count": null,
   "id": "1c02ef74-6f78-4d26-9ced-c1acc917b9c0",
   "metadata": {},
   "outputs": [],
   "source": [
    "import math\n",
    "import torch\n",
    "import torch.nn as nn\n",
    "import torch.optim as optim\n",
    "import numpy as np\n",
    "\n",
    "import matplotlib.pyplot as plt\n",
    "from itertools import islice\n",
    "\n",
    "from torchlensmaker.raytracing import super_refraction, clamped_refraction, ray_point_squared_distance, refraction\n",
    "from torchlensmaker.optics import FocalPointLoss, ParallelBeamUniform, ParallelBeamRandom, FixedGap, RefractiveSurface, OpticalStack, Anchor\n",
    "from torchlensmaker.shapes import Parabola, PiecewiseLine, Line, CircularArc, BezierSpline\n",
    "from torchlensmaker.training import render, optimize"
   ]
  },
  {
   "cell_type": "code",
   "execution_count": null,
   "id": "87a4bae4-b240-4d0b-a025-0def3175100c",
   "metadata": {},
   "outputs": [],
   "source": [
    "\n",
    "lens_radius = 60. # lens radius in mm\n",
    "surface1 = CircularArc(lens_radius, [-200.])\n",
    "surface2 = Line(lens_radius, [0.0, 1.0, 0.0]) # y=0 line\n",
    "\n",
    "optics = OpticalStack([\n",
    "    ParallelBeamRandom(radius=0.9*lens_radius),\n",
    "    FixedGap(15.),\n",
    "    \n",
    "    RefractiveSurface(surface1, (1.0, 1.49), anchors=(Anchor.Center, Anchor.Edge)),\n",
    "    FixedGap(5.),\n",
    "    RefractiveSurface(surface2, (1.49, 1.0)),\n",
    "    \n",
    "    FixedGap(100.0), # focal length\n",
    "    FocalPointLoss(),\n",
    "])\n",
    "\n",
    "\n",
    "render(optics, num_rays=10)\n",
    "\n",
    "optimize(\n",
    "    optics,\n",
    "    optimizer = optim.Adam(optics.parameters(), lr=1e-3),\n",
    "    num_rays = 20,\n",
    "    num_iter = 150\n",
    ")\n",
    "\n",
    "render(optics, num_rays=10)\n",
    "\n"
   ]
  },
  {
   "cell_type": "code",
   "execution_count": null,
   "id": "a05ca7d9-f37d-4ae0-950f-f4e0c3387f2d",
   "metadata": {},
   "outputs": [],
   "source": [
    "from torchlensmaker.optics import Lens\n",
    "from torchlensmaker.export3d import lens_to_part\n",
    "\n",
    "lens = Lens(optics.stack[2], optics.stack[3], optics.stack[4])\n",
    "\n",
    "part = lens_to_part(lens)\n",
    "part"
   ]
  },
  {
   "cell_type": "code",
   "execution_count": null,
   "id": "7a61495b-9702-4208-be59-5ad3360c9e5f",
   "metadata": {},
   "outputs": [],
   "source": []
  }
 ],
 "metadata": {
  "kernelspec": {
   "display_name": "Python 3 (ipykernel)",
   "language": "python",
   "name": "python3"
  },
  "language_info": {
   "codemirror_mode": {
    "name": "ipython",
    "version": 3
   },
   "file_extension": ".py",
   "mimetype": "text/x-python",
   "name": "python",
   "nbconvert_exporter": "python",
   "pygments_lexer": "ipython3",
   "version": "3.12.3"
  }
 },
 "nbformat": 4,
 "nbformat_minor": 5
}
