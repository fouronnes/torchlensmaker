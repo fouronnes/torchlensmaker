{
 "cells": [
  {
   "cell_type": "code",
   "execution_count": null,
   "id": "1c02ef74-6f78-4d26-9ced-c1acc917b9c0",
   "metadata": {},
   "outputs": [],
   "source": [
    "import torch\n",
    "import torch.nn as nn\n",
    "import torch.optim as optim\n",
    "\n",
    "import torchlensmaker as tlm"
   ]
  },
  {
   "cell_type": "code",
   "execution_count": null,
   "id": "87a4bae4-b240-4d0b-a025-0def3175100c",
   "metadata": {},
   "outputs": [],
   "source": [
    "lens_diameter = 60. # lens diameter in mm\n",
    "\n",
    "class Optics(tlm.Module):\n",
    "    def __init__(self):\n",
    "        super().__init__()\n",
    "        \n",
    "        self.shape1 = tlm.CircularArc(lens_diameter, nn.Parameter(torch.tensor(-200.)))\n",
    "        self.shape2 = tlm.Line(lens_diameter, [0.0, 1.0, 0.0])# y=0 line\n",
    "\n",
    "        self.optics = nn.Sequential(\n",
    "            tlm.ParallelBeamRandom(0.9*lens_diameter),\n",
    "            tlm.GapY(15.),\n",
    "            \n",
    "            tlm.RefractiveSurface(self.shape1, (1.0, 1.49), anchors=(\"origin\", \"extent\")),\n",
    "            tlm.GapY(5.),\n",
    "            tlm.RefractiveSurface(self.shape2, (1.49, 1.0)),\n",
    "            \n",
    "            tlm.GapY(100.0), # focal length\n",
    "            tlm.FocalPointLoss(),\n",
    "        )\n",
    "\n",
    "    def forward(self, inputs):\n",
    "        return self.optics(inputs)\n",
    "\n",
    "optics = Optics()\n",
    "\n",
    "init = (10, torch.tensor([0., 0.]))\n",
    "tlm.render_plt(optics, init)\n",
    "\n",
    "tlm.optimize(\n",
    "    optics,\n",
    "    optimizer = optim.Adam(optics.parameters(), lr=1e-3),\n",
    "    inputs = init,\n",
    "    num_iter = 150\n",
    ")\n",
    "\n",
    "tlm.render_plt(optics, init)"
   ]
  },
  {
   "cell_type": "code",
   "execution_count": null,
   "id": "a05ca7d9-f37d-4ae0-950f-f4e0c3387f2d",
   "metadata": {},
   "outputs": [],
   "source": [
    "lens = tlm.Lens(optics.stack[2], optics.stack[3], optics.stack[4])\n",
    "\n",
    "part = tlm.lens_to_part(lens)\n",
    "part"
   ]
  },
  {
   "cell_type": "code",
   "execution_count": null,
   "id": "7a61495b-9702-4208-be59-5ad3360c9e5f",
   "metadata": {},
   "outputs": [],
   "source": []
  }
 ],
 "metadata": {
  "kernelspec": {
   "display_name": "Python 3 (ipykernel)",
   "language": "python",
   "name": "python3"
  },
  "language_info": {
   "codemirror_mode": {
    "name": "ipython",
    "version": 3
   },
   "file_extension": ".py",
   "mimetype": "text/x-python",
   "name": "python",
   "nbconvert_exporter": "python",
   "pygments_lexer": "ipython3",
   "version": "3.12.3"
  }
 },
 "nbformat": 4,
 "nbformat_minor": 5
}
