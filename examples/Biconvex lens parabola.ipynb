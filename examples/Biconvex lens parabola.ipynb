{
 "cells": [
  {
   "cell_type": "markdown",
   "id": "928efc38-4ac8-4053-a747-cf149cb45cde",
   "metadata": {},
   "source": [
    "# Biconvex Lens Parabola"
   ]
  },
  {
   "cell_type": "code",
   "execution_count": null,
   "id": "87a4bae4-b240-4d0b-a025-0def3175100c",
   "metadata": {},
   "outputs": [],
   "source": [
    "import torch\n",
    "import torch.nn as nn\n",
    "import torch.optim as optim\n",
    "\n",
    "import torchlensmaker as tlm\n",
    "\n",
    "\n",
    "class Optics(tlm.Module):\n",
    "    def __init__(self):\n",
    "        super().__init__()\n",
    "        self.shape = tlm.Parabola(height=15., a=nn.Parameter(torch.tensor(0.005)))\n",
    "\n",
    "        self.lens = tlm.SymmetricLens(self.shape, (1.0, 1.49), outer_thickness=0.5)\n",
    "\n",
    "        self.optics = tlm.OpticalSequence(\n",
    "            tlm.PointSourceAtInfinity(beam_diameter=25),\n",
    "            tlm.Gap(10.),\n",
    "            \n",
    "            self.lens,\n",
    "            \n",
    "            tlm.Gap(45.0),\n",
    "            tlm.FocalPoint(),\n",
    "        )\n",
    "\n",
    "    def forward(self, inputs, sampling):\n",
    "        return self.optics(inputs, sampling)\n",
    "\n",
    "optics = Optics()\n",
    "\n",
    "tlm.render_plt(optics)\n",
    "\n",
    "tlm.optimize(\n",
    "    optics,\n",
    "    optimizer = optim.Adam(optics.parameters(), lr=1e-3),\n",
    "    sampling = {\"rays\": 10},\n",
    "    num_iter = 100\n",
    ")\n",
    "\n",
    "tlm.render_plt(optics)"
   ]
  },
  {
   "cell_type": "code",
   "execution_count": null,
   "id": "0d73a248-9677-4d0e-a237-56e0bbfdc9b4",
   "metadata": {},
   "outputs": [],
   "source": [
    "from IPython.display import display\n",
    "import build123d as bd\n",
    "\n",
    "part = tlm.lens_to_part(optics.lens)\n",
    "display(part)\n",
    "\n",
    "print(\"Outer thickness:\", optics.lens.outer_thickness().item())\n",
    "print(\"Inner thickness:\", optics.lens.inner_thickness().item())\n",
    "\n",
    "# bd.export_step(part, \"lens.step\")"
   ]
  },
  {
   "cell_type": "code",
   "execution_count": null,
   "id": "620e6e42-e4d3-431d-bb48-3a7524bdabd4",
   "metadata": {},
   "outputs": [],
   "source": []
  }
 ],
 "metadata": {
  "kernelspec": {
   "display_name": "Python 3 (ipykernel)",
   "language": "python",
   "name": "python3"
  },
  "language_info": {
   "codemirror_mode": {
    "name": "ipython",
    "version": 3
   },
   "file_extension": ".py",
   "mimetype": "text/x-python",
   "name": "python",
   "nbconvert_exporter": "python",
   "pygments_lexer": "ipython3",
   "version": "3.12.3"
  }
 },
 "nbformat": 4,
 "nbformat_minor": 5
}
