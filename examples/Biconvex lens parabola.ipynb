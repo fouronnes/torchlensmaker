{
 "cells": [
  {
   "cell_type": "code",
   "execution_count": null,
   "id": "87a4bae4-b240-4d0b-a025-0def3175100c",
   "metadata": {},
   "outputs": [],
   "source": [
    "import torch\n",
    "import torch.nn as nn\n",
    "import torch.optim as optim\n",
    "\n",
    "import torchlensmaker as tlm\n",
    "\n",
    "\n",
    "class Optics(tlm.Module):\n",
    "    def __init__(self):\n",
    "        super().__init__()\n",
    "        self.shape = tlm.Parabola(width=15., a=nn.Parameter(torch.tensor(-0.005)))\n",
    "\n",
    "        self.optics = nn.Sequential(\n",
    "            tlm.ParallelBeamUniform(width=15.),\n",
    "            tlm.GapY(10.),\n",
    "            \n",
    "            tlm.RefractiveSurface(self.shape, (1.0, 1.49)),\n",
    "            tlm.GapY(5.),\n",
    "            tlm.RefractiveSurface(self.shape, (1.49, 1.0), scale=-1),\n",
    "            \n",
    "            tlm.GapY(80.0),\n",
    "            tlm.FocalPointLoss(),\n",
    "        )\n",
    "\n",
    "    def forward(self, inputs):\n",
    "        return self.optics(inputs)\n",
    "\n",
    "optics = Optics()\n",
    "\n",
    "tlm.render_plt(optics, (10, torch.tensor([0., 0.])))\n",
    "\n",
    "tlm.optimize(\n",
    "    optics,\n",
    "    optimizer = optim.Adam(optics.parameters(), lr=1e-3),\n",
    "    inputs = (10, torch.tensor([0., 0.])),\n",
    "    num_iter = 150\n",
    ")\n",
    "\n",
    "tlm.render_plt(optics, (10, torch.tensor([0., 0.])))"
   ]
  },
  {
   "cell_type": "code",
   "execution_count": null,
   "id": "0d73a248-9677-4d0e-a237-56e0bbfdc9b4",
   "metadata": {},
   "outputs": [],
   "source": [
    "lens = tlm.Lens(optics.stack[2], optics.stack[3], optics.stack[4])\n",
    "\n",
    "part = tlm.lens_to_part(lens)\n",
    "part"
   ]
  }
 ],
 "metadata": {
  "kernelspec": {
   "display_name": "Python 3 (ipykernel)",
   "language": "python",
   "name": "python3"
  },
  "language_info": {
   "codemirror_mode": {
    "name": "ipython",
    "version": 3
   },
   "file_extension": ".py",
   "mimetype": "text/x-python",
   "name": "python",
   "nbconvert_exporter": "python",
   "pygments_lexer": "ipython3",
   "version": "3.12.3"
  }
 },
 "nbformat": 4,
 "nbformat_minor": 5
}
