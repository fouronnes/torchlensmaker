{
 "cells": [
  {
   "cell_type": "code",
   "execution_count": null,
   "id": "1c02ef74-6f78-4d26-9ced-c1acc917b9c0",
   "metadata": {},
   "outputs": [],
   "source": [
    "import torch.optim as optim\n",
    "import torchlensmaker as tlm"
   ]
  },
  {
   "cell_type": "code",
   "execution_count": null,
   "id": "87a4bae4-b240-4d0b-a025-0def3175100c",
   "metadata": {},
   "outputs": [],
   "source": [
    "\n",
    "lens_radius = 60. # lens radius in mm\n",
    "surface1 = tlm.CircularArc(lens_radius, [200.])\n",
    "surface2 = surface1.share(scale=-1.0)\n",
    "\n",
    "optics = tlm.OpticalStack([\n",
    "    tlm.ParallelBeamRandom(radius=0.9*lens_radius),\n",
    "    tlm.FixedGap(50.),\n",
    "    \n",
    "    tlm.RefractiveSurface(surface1, (1.0, 1.49)),\n",
    "    tlm.FixedGap(80.),\n",
    "    tlm.RefractiveSurface(surface2, (1.49, 1.0)),\n",
    "    \n",
    "    tlm.FixedGap(60.0), # focal length\n",
    "    tlm.FocalPointLoss(),\n",
    "])\n",
    "\n",
    "\n",
    "tlm.render(optics, num_rays=10)\n",
    "\n",
    "tlm.optimize(\n",
    "    optics,\n",
    "    optimizer = optim.Adam(optics.parameters(), lr=1e-3),\n",
    "    num_rays = 20,\n",
    "    num_iter = 150\n",
    ")\n",
    "\n",
    "tlm.render(optics, num_rays=10)\n",
    "\n"
   ]
  },
  {
   "cell_type": "code",
   "execution_count": null,
   "id": "a05ca7d9-f37d-4ae0-950f-f4e0c3387f2d",
   "metadata": {},
   "outputs": [],
   "source": [
    "lens = tlm.Lens(optics.stack[2], optics.stack[3], optics.stack[4])\n",
    "\n",
    "part = tlm.lens_to_part(lens)\n",
    "part"
   ]
  }
 ],
 "metadata": {
  "kernelspec": {
   "display_name": "Python 3 (ipykernel)",
   "language": "python",
   "name": "python3"
  },
  "language_info": {
   "codemirror_mode": {
    "name": "ipython",
    "version": 3
   },
   "file_extension": ".py",
   "mimetype": "text/x-python",
   "name": "python",
   "nbconvert_exporter": "python",
   "pygments_lexer": "ipython3",
   "version": "3.12.3"
  }
 },
 "nbformat": 4,
 "nbformat_minor": 5
}
