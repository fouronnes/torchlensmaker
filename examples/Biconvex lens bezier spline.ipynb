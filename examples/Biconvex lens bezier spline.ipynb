{
 "cells": [
  {
   "cell_type": "code",
   "execution_count": null,
   "id": "1c02ef74-6f78-4d26-9ced-c1acc917b9c0",
   "metadata": {},
   "outputs": [],
   "source": [
    "import torch\n",
    "import torch.nn as nn\n",
    "import torch.optim as optim\n",
    "\n",
    "import torchlensmaker as tlm"
   ]
  },
  {
   "cell_type": "code",
   "execution_count": null,
   "id": "87a4bae4-b240-4d0b-a025-0def3175100c",
   "metadata": {},
   "outputs": [],
   "source": [
    "lens_width = 15.0\n",
    "\n",
    "class Optics(tlm.Module):\n",
    "    def __init__(self):\n",
    "        super().__init__()\n",
    "\n",
    "        self.surface1 = tlm.BezierSpline(width=lens_width, init=([3.0], [0.2*lens_width, 1.2*lens_width], [4.8]))\n",
    "\n",
    "        # TODO enforce CX > X, i.e. control point within knots\n",
    "\n",
    "        self.optics = nn.Sequential(\n",
    "            tlm.ParallelBeamUniform(width=0.99*lens_width, num_rays=10),\n",
    "            tlm.Gap(15.),\n",
    "            \n",
    "            tlm.RefractiveSurface(self.surface1, (1.0, 1.49)),\n",
    "            tlm.Gap(15.),\n",
    "            tlm.RefractiveSurface(self.surface1, (1.49, 1.0), scale=-1),\n",
    "            \n",
    "            tlm.Gap(12.0),\n",
    "            tlm.FocalPointLoss(),\n",
    "        )\n",
    "\n",
    "    def forward(self, inputs):\n",
    "        return self.optics(inputs)\n",
    "\n",
    "optics = Optics()\n",
    "\n",
    "\n",
    "tlm.render_plt(optics)\n",
    "\n",
    "tlm.optimize(\n",
    "    optics,\n",
    "    optimizer = optim.Adam(optics.parameters(), 5e-2),\n",
    "    inputs = init,\n",
    "    num_iter = 150\n",
    ")\n",
    "\n",
    "tlm.render_plt(optics)\n",
    "surface1.dump()"
   ]
  },
  {
   "cell_type": "code",
   "execution_count": null,
   "id": "a05ca7d9-f37d-4ae0-950f-f4e0c3387f2d",
   "metadata": {},
   "outputs": [],
   "source": [
    "part = tlm.lens_to_part(lens)\n",
    "part"
   ]
  },
  {
   "cell_type": "code",
   "execution_count": null,
   "id": "1730ded2-1715-4562-9379-b8e177c9b93d",
   "metadata": {},
   "outputs": [],
   "source": []
  }
 ],
 "metadata": {
  "kernelspec": {
   "display_name": "Python 3 (ipykernel)",
   "language": "python",
   "name": "python3"
  },
  "language_info": {
   "codemirror_mode": {
    "name": "ipython",
    "version": 3
   },
   "file_extension": ".py",
   "mimetype": "text/x-python",
   "name": "python",
   "nbconvert_exporter": "python",
   "pygments_lexer": "ipython3",
   "version": "3.12.3"
  }
 },
 "nbformat": 4,
 "nbformat_minor": 5
}
