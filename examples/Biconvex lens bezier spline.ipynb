{
 "cells": [
  {
   "cell_type": "code",
   "execution_count": null,
   "id": "1c02ef74-6f78-4d26-9ced-c1acc917b9c0",
   "metadata": {},
   "outputs": [],
   "source": [
    "import math\n",
    "import torch\n",
    "import torch.nn as nn\n",
    "import torch.optim as optim\n",
    "import numpy as np\n",
    "\n",
    "import matplotlib.pyplot as plt\n",
    "from itertools import islice\n",
    "\n",
    "from torchlensmaker.raytracing import super_refraction, clamped_refraction, ray_point_squared_distance, refraction\n",
    "from torchlensmaker.optics import FocalPointLoss, ParallelBeamUniform, ParallelBeamRandom, FixedGap, RefractiveSurface, OpticalStack\n",
    "from torchlensmaker.shapes import Parabola, PiecewiseLine, Line, CircularArc, BezierSpline\n",
    "from torchlensmaker.training import render, optimize"
   ]
  },
  {
   "cell_type": "code",
   "execution_count": null,
   "id": "87a4bae4-b240-4d0b-a025-0def3175100c",
   "metadata": {},
   "outputs": [],
   "source": [
    "\n",
    "lens_width = 15.0\n",
    "#surface1 = BezierSpline(width=lens_width, init=([3.0], [0.2*lens_width, 1.2*lens_width], [4.8]))\n",
    "surface1 = BezierSpline(lens_width)\n",
    "surface2 = BezierSpline.share(surface1, scale=-1)\n",
    "\n",
    "# TODO enforce CX > X, i.e. control point within knots\n",
    "\n",
    "optics = OpticalStack([\n",
    "    ParallelBeamUniform(radius=0.99*lens_width),\n",
    "    FixedGap(15.),\n",
    "    \n",
    "    RefractiveSurface(surface1, (1.0, 1.49)),\n",
    "    FixedGap(15.),\n",
    "    RefractiveSurface(surface2, (1.49, 1.0)),\n",
    "    \n",
    "    FixedGap(12.0),\n",
    "    FocalPointLoss(),\n",
    "])\n",
    "\n",
    "\n",
    "render(optics, num_rays=10)\n",
    "\n",
    "optimize(\n",
    "    optics,\n",
    "    optimizer = optim.Adam(optics.parameters(), 5e-2),\n",
    "    num_rays = 20,\n",
    "    num_iter = 150\n",
    ")\n",
    "\n",
    "render(optics, num_rays=10)\n",
    "surface1.dump()"
   ]
  },
  {
   "cell_type": "code",
   "execution_count": null,
   "id": "a05ca7d9-f37d-4ae0-950f-f4e0c3387f2d",
   "metadata": {},
   "outputs": [],
   "source": [
    "from torchlensmaker.optics import Lens\n",
    "from torchlensmaker.export3d import lens_to_part\n",
    "\n",
    "lens = Lens(optics.stack[2], optics.stack[3], optics.stack[4])\n",
    "\n",
    "part = lens_to_part(lens)\n",
    "part"
   ]
  },
  {
   "cell_type": "code",
   "execution_count": null,
   "id": "1730ded2-1715-4562-9379-b8e177c9b93d",
   "metadata": {},
   "outputs": [],
   "source": []
  }
 ],
 "metadata": {
  "kernelspec": {
   "display_name": "Python 3 (ipykernel)",
   "language": "python",
   "name": "python3"
  },
  "language_info": {
   "codemirror_mode": {
    "name": "ipython",
    "version": 3
   },
   "file_extension": ".py",
   "mimetype": "text/x-python",
   "name": "python",
   "nbconvert_exporter": "python",
   "pygments_lexer": "ipython3",
   "version": "3.12.3"
  }
 },
 "nbformat": 4,
 "nbformat_minor": 5
}
