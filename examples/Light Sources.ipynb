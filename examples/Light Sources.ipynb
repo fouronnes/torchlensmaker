{
 "cells": [
  {
   "cell_type": "markdown",
   "id": "5b21430c-5ff3-4015-b338-9de28dcca23e",
   "metadata": {},
   "source": [
    "# Light sources"
   ]
  },
  {
   "cell_type": "markdown",
   "id": "ab370305-6247-438c-9ecd-759eb1c8faeb",
   "metadata": {},
   "source": [
    "## Point Source"
   ]
  },
  {
   "cell_type": "code",
   "execution_count": null,
   "id": "64b3dd9e-bb34-48cb-9593-61573b8c7ba6",
   "metadata": {},
   "outputs": [],
   "source": [
    "import torchlensmaker as tlm\n",
    "\n",
    "shape = tlm.CircularArc(height = 10., r = 12)\n",
    "lens = tlm.SymmetricLens(shape, (1.0, 1.5), outer_thickness=1.0)\n",
    "\n",
    "optics = tlm.OpticalSequence(\n",
    "    tlm.PointSource(height=0, beam_angle=25),\n",
    "    tlm.Gap(20),\n",
    "    lens,\n",
    "    tlm.Gap(25),\n",
    "    tlm.FocalPoint(),\n",
    ")\n",
    "\n",
    "tlm.render_plt(optics)"
   ]
  },
  {
   "cell_type": "markdown",
   "id": "841524d6-dd2a-4e79-b814-7039a0db6432",
   "metadata": {},
   "source": [
    "## Multiple Point Sources"
   ]
  },
  {
   "cell_type": "code",
   "execution_count": null,
   "id": "a538fd0e-3b84-46d8-b3b3-66c2f106da9c",
   "metadata": {},
   "outputs": [],
   "source": [
    "import torchlensmaker as tlm\n",
    "\n",
    "shape = tlm.CircularArc(height = 10., r = 20)\n",
    "lens = tlm.SymmetricLens(shape, (1.0, 1.5), outer_thickness=1.0)\n",
    "\n",
    "optics = tlm.OpticalSequence(\n",
    "    tlm.PointSource(height=0, beam_angle=25),\n",
    "    tlm.PointSource(height=1, beam_angle=25),\n",
    "    tlm.PointSource(height=2, beam_angle=25),\n",
    "    tlm.Gap(20),\n",
    "    lens,\n",
    "    tlm.Gap(25),\n",
    "    tlm.FocalPoint(),\n",
    ")\n",
    "\n",
    "tlm.render_plt(optics)"
   ]
  },
  {
   "cell_type": "markdown",
   "id": "06f37a58-e53d-43ca-82e5-68dcd8ec10db",
   "metadata": {},
   "source": [
    "## Point source at infinity"
   ]
  },
  {
   "cell_type": "code",
   "execution_count": null,
   "id": "edd4b207-1081-4112-b2de-fdf547424071",
   "metadata": {},
   "outputs": [],
   "source": [
    "import torchlensmaker as tlm\n",
    "\n",
    "shape = tlm.CircularArc(height = 10., r = 20)\n",
    "lens = tlm.SymmetricLens(shape, (1.0, 1.5), outer_thickness=1.0)\n",
    "\n",
    "optics = tlm.OpticalSequence(\n",
    "    tlm.PointSourceAtInfinity(angle=5., beam_diameter=10),\n",
    "    tlm.Gap(5),\n",
    "    lens,\n",
    "    tlm.Gap(15),\n",
    "    tlm.FocalPoint(),\n",
    ")\n",
    "\n",
    "tlm.render_plt(optics)"
   ]
  },
  {
   "cell_type": "markdown",
   "id": "a98c260a-146e-4888-ba0f-56e9e63c6764",
   "metadata": {},
   "source": [
    "## Multiple point sources at infinity"
   ]
  },
  {
   "cell_type": "code",
   "execution_count": null,
   "id": "10ae2710-341a-4007-9647-2d0a74675fcc",
   "metadata": {},
   "outputs": [],
   "source": [
    "import torchlensmaker as tlm\n",
    "\n",
    "shape = tlm.CircularArc(height = 10., r = 23)\n",
    "lens = tlm.SymmetricLens(shape, (1.0, 1.5), outer_thickness=1.0)\n",
    "\n",
    "optics = tlm.OpticalSequence(\n",
    "    tlm.PointSourceAtInfinity(angle=5, beam_diameter=10),\n",
    "    tlm.PointSourceAtInfinity(angle=0, beam_diameter=10),\n",
    "    tlm.PointSourceAtInfinity(angle=-5, beam_diameter=10),\n",
    "    tlm.Gap(5),\n",
    "    lens,\n",
    "    tlm.Gap(15),\n",
    "    tlm.FocalPoint(),\n",
    ")\n",
    "\n",
    "tlm.render_plt(optics)"
   ]
  },
  {
   "cell_type": "markdown",
   "id": "08532628-92e1-4acc-98c2-27e1117c71ec",
   "metadata": {},
   "source": [
    "## Object at infinity"
   ]
  },
  {
   "cell_type": "code",
   "execution_count": null,
   "id": "a9c04824-0a3b-4718-8f4e-c52c290d650c",
   "metadata": {},
   "outputs": [],
   "source": [
    "import torchlensmaker as tlm\n",
    "\n",
    "shape = tlm.CircularArc(height = 10., r = 23)\n",
    "lens = tlm.SymmetricLens(shape, (1.0, 1.5), outer_thickness=1.0)\n",
    "\n",
    "optics = tlm.OpticalSequence(\n",
    "    tlm.ObjectAtInfinity(beam_diameter=10, angular_size=10),\n",
    "    tlm.Gap(5),\n",
    "    lens,\n",
    "    tlm.Gap(22),\n",
    "    tlm.FocalPoint(),\n",
    ")\n",
    "\n",
    "tlm.render_plt(optics, color_dim=\"object\")\n",
    "\n",
    "output = optics(tlm.default_input, sampling={\"rays\": 5, \"object\": 2})\n",
    "# TODO off by one error in total number of rays here\n",
    "\n"
   ]
  },
  {
   "cell_type": "code",
   "execution_count": null,
   "id": "fca2219d-37e1-4ae6-be4d-a45a91b5fb67",
   "metadata": {},
   "outputs": [],
   "source": [
    "# TODO make this correctly render\n",
    "\n",
    "import torchlensmaker as tlm\n",
    "\n",
    "optics = tlm.OpticalSequence(\n",
    "    tlm.PointSource(height=0, beam_angle=25),\n",
    ")\n",
    "\n",
    "tlm.render_plt(optics)"
   ]
  },
  {
   "cell_type": "code",
   "execution_count": null,
   "id": "e9732cdf-d426-4484-90dd-5004a5bcd8b3",
   "metadata": {},
   "outputs": [],
   "source": []
  }
 ],
 "metadata": {
  "kernelspec": {
   "display_name": "Python 3 (ipykernel)",
   "language": "python",
   "name": "python3"
  },
  "language_info": {
   "codemirror_mode": {
    "name": "ipython",
    "version": 3
   },
   "file_extension": ".py",
   "mimetype": "text/x-python",
   "name": "python",
   "nbconvert_exporter": "python",
   "pygments_lexer": "ipython3",
   "version": "3.12.3"
  }
 },
 "nbformat": 4,
 "nbformat_minor": 5
}
