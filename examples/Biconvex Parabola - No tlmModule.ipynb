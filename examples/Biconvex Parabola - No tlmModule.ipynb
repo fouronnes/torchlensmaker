{
 "cells": [
  {
   "cell_type": "code",
   "execution_count": null,
   "id": "922284cf-020c-4a53-a85c-c42f5f2a131e",
   "metadata": {},
   "outputs": [],
   "source": [
    "import torch\n",
    "import torch.nn as nn\n",
    "import torch.optim as optim\n",
    "\n",
    "import torchlensmaker as tlm\n",
    "\n",
    "\n",
    "# Example without using tlm.Module\n",
    "\n",
    "lens_width = 15.0\n",
    "\n",
    "shape = tlm.Parabola(lens_width, a=nn.Parameter(torch.tensor(-0.005)))\n",
    "\n",
    "optics = nn.Sequential(\n",
    "    tlm.ParallelBeamUniform(0.9*lens_width),\n",
    "    tlm.GapY(15.),\n",
    "    \n",
    "    tlm.RefractiveSurface(shape, (1.0, 1.49)),\n",
    "    tlm.GapY(5.),\n",
    "    tlm.RefractiveSurface(shape, (1.49, 1.0), scale=-1),\n",
    "    \n",
    "    tlm.GapY(80.0),\n",
    "    tlm.FocalPointLoss(),\n",
    ")\n",
    "\n",
    "# Manually register parameters because we're not using tlm.Module\n",
    "for n, p in shape.parameters().items():\n",
    "    optics.register_parameter(n, p)\n",
    "\n",
    "tlm.render_plt(optics, (10, torch.tensor([0., 0.])))\n",
    "\n",
    "tlm.optimize(\n",
    "    optics,\n",
    "    optimizer = optim.Adam(optics.parameters(), lr=1e-3),\n",
    "    inputs = (10, torch.tensor([0., 0.])),\n",
    "    num_iter = 150\n",
    ")\n",
    "\n",
    "tlm.render_plt(optics, (10, torch.tensor([0., 0.])))"
   ]
  }
 ],
 "metadata": {
  "kernelspec": {
   "display_name": "Python 3 (ipykernel)",
   "language": "python",
   "name": "python3"
  },
  "language_info": {
   "codemirror_mode": {
    "name": "ipython",
    "version": 3
   },
   "file_extension": ".py",
   "mimetype": "text/x-python",
   "name": "python",
   "nbconvert_exporter": "python",
   "pygments_lexer": "ipython3",
   "version": "3.12.3"
  }
 },
 "nbformat": 4,
 "nbformat_minor": 5
}
