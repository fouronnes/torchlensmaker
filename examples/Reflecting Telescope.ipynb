{
 "cells": [
  {
   "cell_type": "code",
   "execution_count": null,
   "id": "87a4bae4-b240-4d0b-a025-0def3175100c",
   "metadata": {},
   "outputs": [],
   "source": [
    "import torch\n",
    "import torch.nn as nn\n",
    "import torch.optim as optim\n",
    "\n",
    "import torchlensmaker as tlm\n",
    "\n",
    "# A simple reflecting telescope made of two concave mirrors\n",
    "\n",
    "# In this example we keep the position of the mirrors constant\n",
    "# and optimize their curvature jointly\n",
    "\n",
    "# Note that there is more than one solution because rays can cross N times before focusing on the focal point\n",
    "# We want the solution where they cross at the focal point for the first time\n",
    "# TODO use image loss to account for flips\n",
    "\n",
    "class Optics(tlm.Module):\n",
    "    def __init__(self):\n",
    "        super().__init__()\n",
    "\n",
    "        self.shape_primary = tlm.Parabola(width=35., a=nn.Parameter(torch.tensor(-0.0001)))\n",
    "        self.shape_secondary = tlm.CircularArc(width=35., r=nn.Parameter(torch.tensor(450.0)))\n",
    "\n",
    "        self.optics = nn.Sequential(\n",
    "            tlm.GapY(-100),\n",
    "            tlm.ParallelBeamUniform(width=30.),\n",
    "            tlm.GapY(100),\n",
    "            \n",
    "            tlm.ReflectiveSurface(self.shape_primary),\n",
    "            tlm.GapY(-80),\n",
    "\n",
    "            tlm.ReflectiveSurface(self.shape_secondary),\n",
    "\n",
    "            tlm.GapY(100),\n",
    "            tlm.FocalPointLoss(),\n",
    "        )\n",
    "\n",
    "    def forward(self, inputs):\n",
    "        return self.optics(inputs)\n",
    "\n",
    "optics = Optics()\n",
    "\n",
    "tlm.render_plt(optics, (10, torch.tensor([0., 0.])))\n",
    "\n",
    "tlm.optimize(\n",
    "    optics,\n",
    "    optimizer = optim.Adam(optics.parameters(), lr=2e-4),\n",
    "    inputs = (10, torch.tensor([0., 0.])),\n",
    "    num_iter = 100\n",
    ")\n",
    "\n",
    "tlm.render_plt(optics, (10, torch.tensor([0., 0.])))"
   ]
  },
  {
   "cell_type": "code",
   "execution_count": null,
   "id": "620e6e42-e4d3-431d-bb48-3a7524bdabd4",
   "metadata": {},
   "outputs": [],
   "source": []
  }
 ],
 "metadata": {
  "kernelspec": {
   "display_name": "Python 3 (ipykernel)",
   "language": "python",
   "name": "python3"
  },
  "language_info": {
   "codemirror_mode": {
    "name": "ipython",
    "version": 3
   },
   "file_extension": ".py",
   "mimetype": "text/x-python",
   "name": "python",
   "nbconvert_exporter": "python",
   "pygments_lexer": "ipython3",
   "version": "3.12.3"
  }
 },
 "nbformat": 4,
 "nbformat_minor": 5
}
